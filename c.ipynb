{
 "cells": [
  {
   "cell_type": "code",
   "execution_count": 27,
   "metadata": {},
   "outputs": [
    {
     "name": "stdout",
     "output_type": "stream",
     "text": [
      "['setosa' 'versicolor' 'virginica']\n",
      "Knn = ['versicolor'] [[ 0.   0.8  0.2]]\n",
      "LR = ['virginica'] [[ 0.11183585  0.00264262  0.88552152]]\n",
      "LDA = ['virginica'] [[  2.72188817e-19   2.85013272e-01   7.14986728e-01]]\n",
      "Gauss = ['virginica'] [[  7.48712409e-100   7.37425889e-004   9.99262574e-001]]\n",
      "SVC = ['virginica'] [[ 0.21804355  0.30762311  0.47433334]]\n",
      "Dect = ['versicolor'] [[ 0.  1.  0.]]\n"
     ]
    }
   ],
   "source": [
    "from sklearn import datasets\n",
    "from sklearn.linear_model import LogisticRegression\n",
    "from sklearn.tree import DecisionTreeClassifier\n",
    "from sklearn.neighbors import KNeighborsClassifier\n",
    "from sklearn.discriminant_analysis import LinearDiscriminantAnalysis\n",
    "from sklearn.naive_bayes import GaussianNB\n",
    "from sklearn.svm import SVC\n",
    "\n",
    "iris = datasets.load_iris()\n",
    "X, y = iris.data, iris.target\n",
    "\n",
    "# create the models\n",
    "knn = KNeighborsClassifier(n_neighbors=5, weights='uniform')\n",
    "lr = LogisticRegression()\n",
    "lda = LinearDiscriminantAnalysis()\n",
    "gauss = GaussianNB()\n",
    "svc = SVC(probability=True) #for displaying prob.\n",
    "dect = DecisionTreeClassifier()\n",
    "\n",
    "# fit the models\n",
    "knn.fit(X, y)\n",
    "lr.fit(X,y)\n",
    "lda.fit(X,y)\n",
    "gauss.fit(X,y)\n",
    "svc.fit(X,y)\n",
    "dect.fit(X,y)\n",
    "\n",
    "# What kind of iris has 3cm x 5cm sepal and 4cm x 2cm petal?\n",
    "X_pred = [3, 5, 4, 2]\n",
    "result1 = knn.predict([X_pred, ])\n",
    "result2 = lr.predict([X_pred, ])\n",
    "result3 = lda.predict([X_pred, ])\n",
    "result4 = gauss.predict([X_pred, ])\n",
    "result5 = svc.predict([X_pred, ])\n",
    "result6 = dect.predict([X_pred, ])\n",
    "\n",
    "#list of results\n",
    "print(iris.target_names)\n",
    "\n",
    "#print(result)\n",
    "print(\"Knn =\",iris.target_names[result1],knn.predict_proba([X_pred, ])) #knn\n",
    "print(\"LR =\",iris.target_names[result2],lr.predict_proba([X_pred, ])) #lr\n",
    "print(\"LDA =\",iris.target_names[result3],lda.predict_proba([X_pred, ])) #lda\n",
    "print(\"Gauss =\",iris.target_names[result4],gauss.predict_proba([X_pred, ])) #gauss\n",
    "print(\"SVC =\",iris.target_names[result5],svc.predict_proba([X_pred, ])) #svc\n",
    "print(\"Dect =\",iris.target_names[result6],dect.predict_proba([X_pred, ])) #dect\n",
    "\n",
    "#print probabilities"
   ]
  },
  {
   "cell_type": "code",
   "execution_count": null,
   "metadata": {
    "collapsed": true
   },
   "outputs": [],
   "source": []
  }
 ],
 "metadata": {
  "kernelspec": {
   "display_name": "Python 3",
   "language": "python",
   "name": "python3"
  },
  "language_info": {
   "codemirror_mode": {
    "name": "ipython",
    "version": 3
   },
   "file_extension": ".py",
   "mimetype": "text/x-python",
   "name": "python",
   "nbconvert_exporter": "python",
   "pygments_lexer": "ipython3",
   "version": "3.5.2"
  }
 },
 "nbformat": 4,
 "nbformat_minor": 2
}
